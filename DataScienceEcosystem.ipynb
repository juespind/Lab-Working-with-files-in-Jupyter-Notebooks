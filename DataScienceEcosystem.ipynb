{
 "cells": [
  {
   "cell_type": "markdown",
   "id": "8c702601-811a-486f-866c-24debf41b6c5",
   "metadata": {},
   "source": [
    "# Data Science Tools and Ecosystem"
   ]
  },
  {
   "cell_type": "markdown",
   "id": "6b27a1f3-47ae-479b-aefe-8bf64217bde3",
   "metadata": {},
   "source": [
    "In this notebook, Data Science Tools and Ecosystem are summarized."
   ]
  },
  {
   "cell_type": "markdown",
   "id": "733b15d0-5736-4a97-806e-7dc944c37a4a",
   "metadata": {},
   "source": [
    "Some of the popular languages that Data Scientists use are: \n",
    "1. phyton\n",
    "2. C++\n",
    "3. R"
   ]
  },
  {
   "cell_type": "markdown",
   "id": "bb56c095-edca-4d06-ba93-f008ae2e7496",
   "metadata": {},
   "source": [
    "Some of the commonly used libraries used by Data Scientists include:\n",
    "1. Pandas\n",
    "2. Numpy\n",
    "3. Matplotlib"
   ]
  },
  {
   "cell_type": "markdown",
   "id": "3a569507-8b84-4a84-81b3-fbcf9d316adc",
   "metadata": {},
   "source": [
    "|Data Science Tools|\n",
    "|------------------|\n",
    "|Jupyter notbook   |\n",
    "|RSudio            |\n",
    "|VS Studio Code    |"
   ]
  },
  {
   "cell_type": "markdown",
   "id": "00be80a3-be37-48ac-81d9-a91dd00633ab",
   "metadata": {},
   "source": [
    "### Below are a few examples of evaluating arithmetic expressions in Python"
   ]
  },
  {
   "cell_type": "markdown",
   "id": "809d5749-39d3-4022-bcae-2ccd3296fda6",
   "metadata": {},
   "source": [
    "This a simple arithmetic expression to mutiply then add integers"
   ]
  },
  {
   "cell_type": "code",
   "execution_count": 6,
   "id": "117d55e1-b7f2-462a-a8f0-4571607e60e9",
   "metadata": {},
   "outputs": [
    {
     "data": {
      "text/plain": [
       "17"
      ]
     },
     "execution_count": 6,
     "metadata": {},
     "output_type": "execute_result"
    }
   ],
   "source": [
    "(3*4)+5"
   ]
  },
  {
   "cell_type": "markdown",
   "id": "4f945279-a89a-4701-804f-f0a5e2b88f63",
   "metadata": {},
   "source": [
    "This will convert 200 minutes to hours by diving by 60"
   ]
  },
  {
   "cell_type": "code",
   "execution_count": 7,
   "id": "03580e31-3ab1-4f1a-a38c-10292de0aaeb",
   "metadata": {},
   "outputs": [
    {
     "data": {
      "text/plain": [
       "3.3333333333333335"
      ]
     },
     "execution_count": 7,
     "metadata": {},
     "output_type": "execute_result"
    }
   ],
   "source": [
    "200/60"
   ]
  },
  {
   "cell_type": "markdown",
   "id": "c8878d69-395c-424f-9563-1deb2dc914c4",
   "metadata": {},
   "source": [
    "Some of the key takeaways from the course\n",
    "\n",
    "**Objectives:**\n",
    "- List popular languages for Data Science\n",
    "- List of commonly used libraries used by Data Scientists\n",
    "- List of most used data science tools"
   ]
  },
  {
   "cell_type": "markdown",
   "id": "9ea06ebf-7356-4777-a9e5-0fa0713d234a",
   "metadata": {},
   "source": [
    "## Author\n",
    "Juliana Espíndola"
   ]
  },
  {
   "cell_type": "code",
   "execution_count": null,
   "id": "e732e395-c019-4ca3-a922-8e7f4e870264",
   "metadata": {},
   "outputs": [],
   "source": []
  }
 ],
 "metadata": {
  "kernelspec": {
   "display_name": "Python 3 (ipykernel)",
   "language": "python",
   "name": "python3"
  },
  "language_info": {
   "codemirror_mode": {
    "name": "ipython",
    "version": 3
   },
   "file_extension": ".py",
   "mimetype": "text/x-python",
   "name": "python",
   "nbconvert_exporter": "python",
   "pygments_lexer": "ipython3",
   "version": "3.12.8"
  }
 },
 "nbformat": 4,
 "nbformat_minor": 5
}
